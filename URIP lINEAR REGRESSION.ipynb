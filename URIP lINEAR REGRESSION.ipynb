{
 "cells": [
  {
   "cell_type": "code",
   "execution_count": 1,
   "id": "c7af66ea-ca5c-46f2-b18c-25cd7c085262",
   "metadata": {},
   "outputs": [
    {
     "data": {
      "text/html": [
       "<div>\n",
       "<style scoped>\n",
       "    .dataframe tbody tr th:only-of-type {\n",
       "        vertical-align: middle;\n",
       "    }\n",
       "\n",
       "    .dataframe tbody tr th {\n",
       "        vertical-align: top;\n",
       "    }\n",
       "\n",
       "    .dataframe thead th {\n",
       "        text-align: right;\n",
       "    }\n",
       "</style>\n",
       "<table border=\"1\" class=\"dataframe\">\n",
       "  <thead>\n",
       "    <tr style=\"text-align: right;\">\n",
       "      <th></th>\n",
       "      <th>Liter</th>\n",
       "      <th>Penumpang</th>\n",
       "      <th>Bagasi</th>\n",
       "      <th>Kecepatan</th>\n",
       "      <th>RPM</th>\n",
       "      <th>Suhu</th>\n",
       "      <th>Kilometer</th>\n",
       "    </tr>\n",
       "  </thead>\n",
       "  <tbody>\n",
       "    <tr>\n",
       "      <th>0</th>\n",
       "      <td>20</td>\n",
       "      <td>1</td>\n",
       "      <td>0</td>\n",
       "      <td>42</td>\n",
       "      <td>3000</td>\n",
       "      <td>29</td>\n",
       "      <td>142</td>\n",
       "    </tr>\n",
       "    <tr>\n",
       "      <th>1</th>\n",
       "      <td>25</td>\n",
       "      <td>2</td>\n",
       "      <td>15</td>\n",
       "      <td>50</td>\n",
       "      <td>4000</td>\n",
       "      <td>36</td>\n",
       "      <td>177</td>\n",
       "    </tr>\n",
       "    <tr>\n",
       "      <th>2</th>\n",
       "      <td>20</td>\n",
       "      <td>4</td>\n",
       "      <td>10</td>\n",
       "      <td>50</td>\n",
       "      <td>3000</td>\n",
       "      <td>24</td>\n",
       "      <td>144</td>\n",
       "    </tr>\n",
       "    <tr>\n",
       "      <th>3</th>\n",
       "      <td>30</td>\n",
       "      <td>5</td>\n",
       "      <td>25</td>\n",
       "      <td>50</td>\n",
       "      <td>3000</td>\n",
       "      <td>18</td>\n",
       "      <td>203</td>\n",
       "    </tr>\n",
       "    <tr>\n",
       "      <th>4</th>\n",
       "      <td>40</td>\n",
       "      <td>1</td>\n",
       "      <td>40</td>\n",
       "      <td>50</td>\n",
       "      <td>3200</td>\n",
       "      <td>30</td>\n",
       "      <td>273</td>\n",
       "    </tr>\n",
       "    <tr>\n",
       "      <th>...</th>\n",
       "      <td>...</td>\n",
       "      <td>...</td>\n",
       "      <td>...</td>\n",
       "      <td>...</td>\n",
       "      <td>...</td>\n",
       "      <td>...</td>\n",
       "      <td>...</td>\n",
       "    </tr>\n",
       "    <tr>\n",
       "      <th>60</th>\n",
       "      <td>31</td>\n",
       "      <td>3</td>\n",
       "      <td>0</td>\n",
       "      <td>50</td>\n",
       "      <td>3000</td>\n",
       "      <td>30</td>\n",
       "      <td>203</td>\n",
       "    </tr>\n",
       "    <tr>\n",
       "      <th>61</th>\n",
       "      <td>37</td>\n",
       "      <td>1</td>\n",
       "      <td>0</td>\n",
       "      <td>50</td>\n",
       "      <td>3000</td>\n",
       "      <td>22</td>\n",
       "      <td>241</td>\n",
       "    </tr>\n",
       "    <tr>\n",
       "      <th>62</th>\n",
       "      <td>23</td>\n",
       "      <td>2</td>\n",
       "      <td>10</td>\n",
       "      <td>50</td>\n",
       "      <td>3000</td>\n",
       "      <td>30</td>\n",
       "      <td>142</td>\n",
       "    </tr>\n",
       "    <tr>\n",
       "      <th>63</th>\n",
       "      <td>36</td>\n",
       "      <td>2</td>\n",
       "      <td>0</td>\n",
       "      <td>50</td>\n",
       "      <td>3000</td>\n",
       "      <td>20</td>\n",
       "      <td>241</td>\n",
       "    </tr>\n",
       "    <tr>\n",
       "      <th>64</th>\n",
       "      <td>23</td>\n",
       "      <td>1</td>\n",
       "      <td>15</td>\n",
       "      <td>50</td>\n",
       "      <td>3000</td>\n",
       "      <td>30</td>\n",
       "      <td>142</td>\n",
       "    </tr>\n",
       "  </tbody>\n",
       "</table>\n",
       "<p>65 rows × 7 columns</p>\n",
       "</div>"
      ],
      "text/plain": [
       "    Liter  Penumpang  Bagasi  Kecepatan   RPM  Suhu  Kilometer\n",
       "0      20          1       0         42  3000    29        142\n",
       "1      25          2      15         50  4000    36        177\n",
       "2      20          4      10         50  3000    24        144\n",
       "3      30          5      25         50  3000    18        203\n",
       "4      40          1      40         50  3200    30        273\n",
       "..    ...        ...     ...        ...   ...   ...        ...\n",
       "60     31          3       0         50  3000    30        203\n",
       "61     37          1       0         50  3000    22        241\n",
       "62     23          2      10         50  3000    30        142\n",
       "63     36          2       0         50  3000    20        241\n",
       "64     23          1      15         50  3000    30        142\n",
       "\n",
       "[65 rows x 7 columns]"
      ]
     },
     "execution_count": 1,
     "metadata": {},
     "output_type": "execute_result"
    }
   ],
   "source": [
    "import pandas as pd\n",
    "df1 = pd.read_csv('bensin2.csv')\n",
    "df1"
   ]
  },
  {
   "cell_type": "code",
   "execution_count": 4,
   "id": "6a9bf931-ce00-4d46-85e4-6b204f1da47d",
   "metadata": {},
   "outputs": [
    {
     "data": {
      "text/html": [
       "<div>\n",
       "<style scoped>\n",
       "    .dataframe tbody tr th:only-of-type {\n",
       "        vertical-align: middle;\n",
       "    }\n",
       "\n",
       "    .dataframe tbody tr th {\n",
       "        vertical-align: top;\n",
       "    }\n",
       "\n",
       "    .dataframe thead th {\n",
       "        text-align: right;\n",
       "    }\n",
       "</style>\n",
       "<table border=\"1\" class=\"dataframe\">\n",
       "  <thead>\n",
       "    <tr style=\"text-align: right;\">\n",
       "      <th></th>\n",
       "      <th>Liter</th>\n",
       "      <th>Penumpang</th>\n",
       "      <th>Bagasi</th>\n",
       "      <th>Kecepatan</th>\n",
       "      <th>Suhu</th>\n",
       "      <th>Kilometer</th>\n",
       "    </tr>\n",
       "  </thead>\n",
       "  <tbody>\n",
       "    <tr>\n",
       "      <th>count</th>\n",
       "      <td>65.000000</td>\n",
       "      <td>65.000000</td>\n",
       "      <td>65.000000</td>\n",
       "      <td>65.000000</td>\n",
       "      <td>65.000000</td>\n",
       "      <td>65.000000</td>\n",
       "    </tr>\n",
       "    <tr>\n",
       "      <th>mean</th>\n",
       "      <td>26.446154</td>\n",
       "      <td>2.384615</td>\n",
       "      <td>8.538462</td>\n",
       "      <td>49.876923</td>\n",
       "      <td>28.738462</td>\n",
       "      <td>165.307692</td>\n",
       "    </tr>\n",
       "    <tr>\n",
       "      <th>std</th>\n",
       "      <td>7.424686</td>\n",
       "      <td>1.558167</td>\n",
       "      <td>13.101857</td>\n",
       "      <td>0.992278</td>\n",
       "      <td>3.378595</td>\n",
       "      <td>68.571113</td>\n",
       "    </tr>\n",
       "    <tr>\n",
       "      <th>min</th>\n",
       "      <td>6.000000</td>\n",
       "      <td>1.000000</td>\n",
       "      <td>0.000000</td>\n",
       "      <td>42.000000</td>\n",
       "      <td>18.000000</td>\n",
       "      <td>1.000000</td>\n",
       "    </tr>\n",
       "    <tr>\n",
       "      <th>25%</th>\n",
       "      <td>23.000000</td>\n",
       "      <td>1.000000</td>\n",
       "      <td>0.000000</td>\n",
       "      <td>50.000000</td>\n",
       "      <td>29.000000</td>\n",
       "      <td>142.000000</td>\n",
       "    </tr>\n",
       "    <tr>\n",
       "      <th>50%</th>\n",
       "      <td>25.000000</td>\n",
       "      <td>2.000000</td>\n",
       "      <td>0.000000</td>\n",
       "      <td>50.000000</td>\n",
       "      <td>30.000000</td>\n",
       "      <td>174.000000</td>\n",
       "    </tr>\n",
       "    <tr>\n",
       "      <th>75%</th>\n",
       "      <td>30.000000</td>\n",
       "      <td>4.000000</td>\n",
       "      <td>15.000000</td>\n",
       "      <td>50.000000</td>\n",
       "      <td>30.000000</td>\n",
       "      <td>211.000000</td>\n",
       "    </tr>\n",
       "    <tr>\n",
       "      <th>max</th>\n",
       "      <td>45.000000</td>\n",
       "      <td>6.000000</td>\n",
       "      <td>60.000000</td>\n",
       "      <td>50.000000</td>\n",
       "      <td>36.000000</td>\n",
       "      <td>278.000000</td>\n",
       "    </tr>\n",
       "  </tbody>\n",
       "</table>\n",
       "</div>"
      ],
      "text/plain": [
       "           Liter  Penumpang     Bagasi  Kecepatan       Suhu   Kilometer\n",
       "count  65.000000  65.000000  65.000000  65.000000  65.000000   65.000000\n",
       "mean   26.446154   2.384615   8.538462  49.876923  28.738462  165.307692\n",
       "std     7.424686   1.558167  13.101857   0.992278   3.378595   68.571113\n",
       "min     6.000000   1.000000   0.000000  42.000000  18.000000    1.000000\n",
       "25%    23.000000   1.000000   0.000000  50.000000  29.000000  142.000000\n",
       "50%    25.000000   2.000000   0.000000  50.000000  30.000000  174.000000\n",
       "75%    30.000000   4.000000  15.000000  50.000000  30.000000  211.000000\n",
       "max    45.000000   6.000000  60.000000  50.000000  36.000000  278.000000"
      ]
     },
     "execution_count": 4,
     "metadata": {},
     "output_type": "execute_result"
    }
   ],
   "source": [
    "df1.describe()"
   ]
  },
  {
   "cell_type": "code",
   "execution_count": 5,
   "id": "67386a19-bf64-49b7-826a-6da57214eda2",
   "metadata": {},
   "outputs": [
    {
     "name": "stdout",
     "output_type": "stream",
     "text": [
      "52 13\n"
     ]
    }
   ],
   "source": [
    "import sklearn.model_selection as ms\n",
    "liter = df1[['Liter']]\n",
    "kilometer = df1[['Kilometer']]\n",
    "\n",
    "X_train, X_test, y_train, y_test = ms.train_test_split(liter, kilometer, test_size=0.2,random_state=0)\n",
    "print(X_train.size, X_test.size)"
   ]
  },
  {
   "cell_type": "code",
   "execution_count": 6,
   "id": "3e68138c-78c0-41bb-bbe3-1b5089e45299",
   "metadata": {},
   "outputs": [
    {
     "data": {
      "image/png": "[encoded data removed]",
      "text/plain": [
       "<Figure size 432x288 with 1 Axes>"
      ]
     },
     "metadata": {
      "needs_background": "light"
     },
     "output_type": "display_data"
    }
   ],
   "source": [
    "import numpy as np\n",
    "import matplotlib.pyplot as plt\n",
    "\n",
    "plt.scatter(X_train, y_train,edgecolors='r')\n",
    "plt.xlabel('Liter')\n",
    "plt.ylabel('Kilometer')\n",
    "plt.title('Konsumsi Bahan Bakar')\n",
    "plt.show()"
   ]
  },
  {
   "cell_type": "code",
   "execution_count": 8,
   "id": "4b569827-3612-4a97-b648-7f4325698f96",
   "metadata": {},
   "outputs": [
    {
     "data": {
      "image/png": "[encoded data removed]",
      "text/plain": [
       "<Figure size 432x288 with 1 Axes>"
      ]
     },
     "metadata": {
      "needs_background": "light"
     },
     "output_type": "display_data"
    }
   ],
   "source": [
    "plt.scatter(X_train, y_train,edgecolors='r')\n",
    "plt.xlabel('Liter')\n",
    "plt.ylabel('Kilometer')\n",
    "plt.title('Konsumsi Bahan Bakar')\n",
    "x1 = np.linspace(0,45)\n",
    "y1 = 4 + 7 * x1\n",
    "plt.plot(x1,y1)\n",
    "plt.show()"
   ]
  },
  {
   "cell_type": "code",
   "execution_count": 9,
   "id": "a91069b8-b92f-4364-ae29-f650d6b587cc",
   "metadata": {},
   "outputs": [
    {
     "data": {
      "text/plain": [
       "LinearRegression()"
      ]
     },
     "execution_count": 9,
     "metadata": {},
     "output_type": "execute_result"
    }
   ],
   "source": [
    "import sklearn.linear_model as lm\n",
    "\n",
    "model1 = lm.LinearRegression()\n",
    "model1.fit (X_train, y_train)"
   ]
  },
  {
   "cell_type": "code",
   "execution_count": 10,
   "id": "20e7cec9-4ce8-4d42-b49b-3b242fd5ed4d",
   "metadata": {},
   "outputs": [
    {
     "data": {
      "text/plain": [
       "array([[6.49856462]])"
      ]
     },
     "execution_count": 10,
     "metadata": {},
     "output_type": "execute_result"
    }
   ],
   "source": [
    "model1.coef_"
   ]
  },
  {
   "cell_type": "code",
   "execution_count": 11,
   "id": "0dabd4c0-b5f9-4f5d-b963-41780c38e904",
   "metadata": {},
   "outputs": [
    {
     "data": {
      "image/png": "[encoded data removed]",
      "text/plain": [
       "<Figure size 432x288 with 1 Axes>"
      ]
     },
     "metadata": {
      "needs_background": "light"
     },
     "output_type": "display_data"
    }
   ],
   "source": [
    "plt.scatter(X_train, y_train,edgecolors='r')\n",
    "plt.xlabel('Liter')\n",
    "plt.ylabel('Kilometer')\n",
    "plt.title('Konsumsi Bahan Bakar')\n",
    "x1 = np.linspace(0,45)\n",
    "y1 = 10.64 + 6.45 * x1\n",
    "plt.plot(x1,y1)\n",
    "plt.show()"
   ]
  },
  {
   "cell_type": "code",
   "execution_count": 12,
   "id": "490c43e7-3cc2-43bd-acc0-8510998a44cd",
   "metadata": {},
   "outputs": [
    {
     "name": "stdout",
     "output_type": "stream",
     "text": [
      "0.5552942776112436\n"
     ]
    }
   ],
   "source": [
    "r2 = model1.score(X_test, y_test)\n",
    "print(r2)"
   ]
  },
  {
   "cell_type": "code",
   "execution_count": 19,
   "id": "5923a345-a7fb-412a-9ddc-ef0eee02ea1b",
   "metadata": {},
   "outputs": [
    {
     "name": "stdout",
     "output_type": "stream",
     "text": [
      "[[382.90408631]]\n"
     ]
    },
    {
     "name": "stderr",
     "output_type": "stream",
     "text": [
      "C:\\Users\\yevan\\Downloads\\Programs\\WPy64-39100\\python-3.9.10.amd64\\lib\\site-packages\\sklearn\\base.py:450: UserWarning: X does not have valid feature names, but LinearRegression was fitted with feature names\n",
      "  warnings.warn(\n"
     ]
    }
   ],
   "source": [
    "jarak = model1.predict([[60]])\n",
    "print(jarak)"
   ]
  },
  {
   "cell_type": "code",
   "execution_count": null,
   "id": "3fdc89a7-812c-4485-8786-976d30e59157",
   "metadata": {},
   "outputs": [],
   "source": []
  },
  {
   "cell_type": "code",
   "execution_count": null,
   "id": "d279ab03-1850-49c9-9547-4ffe11224ef1",
   "metadata": {},
   "outputs": [],
   "source": []
  },
  {
   "cell_type": "code",
   "execution_count": null,
   "id": "e5306af0-1ed2-4c0a-8a12-24b8d7d7f0b1",
   "metadata": {},
   "outputs": [],
   "source": []
  }
 ],
 "metadata": {
  "kernelspec": {
   "display_name": "Python 3 (ipykernel)",
   "language": "python",
   "name": "python3"
  },
  "language_info": {
   "codemirror_mode": {
    "name": "ipython",
    "version": 3
   },
   "file_extension": ".py",
   "mimetype": "text/x-python",
   "name": "python",
   "nbconvert_exporter": "python",
   "pygments_lexer": "ipython3",
   "version": "3.9.10"
  }
 },
 "nbformat": 4,
 "nbformat_minor": 5
}
